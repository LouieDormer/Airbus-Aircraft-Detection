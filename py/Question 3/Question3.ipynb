{
 "cells": [
  {
   "cell_type": "markdown",
   "metadata": {},
   "source": [
    "### Dependancies used"
   ]
  },
  {
   "cell_type": "code",
   "execution_count": 1,
   "metadata": {},
   "outputs": [
    {
     "name": "stdout",
     "output_type": "stream",
     "text": [
      "Hello, World!\n"
     ]
    }
   ],
   "source": [
    "import sys\n",
    "\n",
    "sys.path.append(\"/Users/louie/Documents/Visual Studio Code/ACT Work/Airbus-Aircraft-Detection/py\")\n",
    "\n",
    "from functions import *"
   ]
  },
  {
   "cell_type": "code",
   "execution_count": null,
   "metadata": {},
   "outputs": [],
   "source": [
    "import pandas as pd\n",
    "import numpy as np\n",
    "import cv2\n",
    "import os\n",
    "import re\n",
    "import ast\n",
    "\n",
    "from PIL import Image,ImageDraw\n",
    "\n",
    "import albumentations as A\n",
    "from albumentations.pytorch.transforms import ToTensorV2\n",
    "\n",
    "import torch\n",
    "import torchvision\n",
    "\n",
    "from torchvision.models.detection.faster_rcnn import FastRCNNPredictor\n",
    "from torchvision.models.detection import FasterRCNN\n",
    "from torchvision.models.detection.rpn import AnchorGenerator\n",
    "from torchvision.models import resnet50, ResNet50_Weights\n",
    "\n",
    "\n",
    "from torch.utils.data import DataLoader, Dataset\n",
    "from torch.utils.data.sampler import SequentialSampler\n",
    "\n",
    "from matplotlib import pyplot as plt\n",
    "from sklearn.model_selection import train_test_split"
   ]
  },
  {
   "cell_type": "code",
   "execution_count": null,
   "metadata": {},
   "outputs": [],
   "source": [
    "#HOME = \"/Users/louie/Documents/Visual Studio Code/ACT Work/Airbus-Aircraft-Detection\"\n",
    "HOME = '/content/drive/MyDrive/ACT Coursework 2/Airbus-Aircraft-Detection/'\n",
    "directory_path = os.path.join(HOME, 'airbus-aircrafts-sample-dataset')\n",
    "image_path = os.path.join(directory_path, 'images')"
   ]
  },
  {
   "cell_type": "markdown",
   "metadata": {},
   "source": [
    "### What is data augmentation?\n",
    "\n",
    "Data augmentation is the process of generating more data out of a pre-existing dataset using various transformations to create new data, which can increase dataset diversity for training a machine learning algorithm.\n",
    "\n",
    "### Why use data augmentation?\n",
    "\n",
    "Data augmentation is very useful in situations where gathering more real data has ethical, financial or time restrictions and the current dataset is insufficient for accurate training and the diversity created by the adds more general features that help the model expect differences in features and better prepares it for unseen data which improves its overall performance.\n",
    "\n",
    "In the case of the AirBus dataset being used, the dataset is quite small and both the desired and undesired features are very repetitive which can lead to overfitting as shown by the loss curve in out neural network.\n",
    "\n",
    "### Methods of data augmentation\n",
    "\n",
    "Data augmentation can be performed in a variety of ways to improve model diversity including but not limited to...\n",
    "- Rotation: rotating images can help the model recognise models at different angles\n",
    "- Cropping: removing sections of the image can simulate a closer image or focus on a particular feature\n",
    "- Brightness: changing the brightness of the image can simulate variations in lighting conditions\n",
    "- Gaussian Noise: adding noise can blur the image and simulate sensor noise and graininess.\n",
    "\n",
    "Lets demonstrate this by taking a random data sample and using Albumentations to apply a [Gaussian Blur](https://en.wikipedia.org/wiki/Gaussian_blur) transformation to it."
   ]
  }
 ],
 "metadata": {
  "kernelspec": {
   "display_name": "Python 3",
   "language": "python",
   "name": "python3"
  },
  "language_info": {
   "codemirror_mode": {
    "name": "ipython",
    "version": 3
   },
   "file_extension": ".py",
   "mimetype": "text/x-python",
   "name": "python",
   "nbconvert_exporter": "python",
   "pygments_lexer": "ipython3",
   "version": "3.11.9"
  }
 },
 "nbformat": 4,
 "nbformat_minor": 2
}
